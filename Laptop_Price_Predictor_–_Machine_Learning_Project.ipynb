{
  "nbformat": 4,
  "nbformat_minor": 0,
  "metadata": {
    "colab": {
      "provenance": [],
      "authorship_tag": "ABX9TyN2FqmGpWYtQMYMu28jQS62",
      "include_colab_link": true
    },
    "kernelspec": {
      "name": "python3",
      "display_name": "Python 3"
    },
    "language_info": {
      "name": "python"
    }
  },
  "cells": [
    {
      "cell_type": "markdown",
      "metadata": {
        "id": "view-in-github",
        "colab_type": "text"
      },
      "source": [
        "<a href=\"https://colab.research.google.com/github/OTN-Rajapaksha/Machine-Learning-Project-Laptop-Price-Predictor/blob/main/Laptop_Price_Predictor_%E2%80%93_Machine_Learning_Project.ipynb\" target=\"_parent\"><img src=\"https://colab.research.google.com/assets/colab-badge.svg\" alt=\"Open In Colab\"/></a>"
      ]
    },
    {
      "cell_type": "markdown",
      "source": [
        "## **Project Description:**\n",
        "\n",
        "The Laptop Price Predictor is a supervised machine learning project designed to estimate the market price of laptops based on their specifications. With the rapid evolution of hardware and numerous models on the market, this project aims to simplify the buying and selling process by providing accurate price predictions based on key features."
      ],
      "metadata": {
        "id": "ZewXO2jWBYka"
      }
    },
    {
      "cell_type": "code",
      "source": [
        "#Laptop Price Prediction\n",
        "\n",
        "\n"
      ],
      "metadata": {
        "id": "lAwPSFnLBaZs"
      },
      "execution_count": null,
      "outputs": []
    }
  ]
}